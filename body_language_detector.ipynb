{
 "cells": [
  {
   "cell_type": "code",
   "execution_count": 2,
   "metadata": {},
   "outputs": [
    {
     "name": "stdout",
     "output_type": "stream",
     "text": [
      "Requirement already satisfied: mediapipe in ./PoseEst/env/lib/python3.10/site-packages (0.10.14)\n",
      "Requirement already satisfied: opencv-python in ./PoseEst/env/lib/python3.10/site-packages (4.9.0.80)\n",
      "Requirement already satisfied: pandas in ./PoseEst/env/lib/python3.10/site-packages (2.2.2)\n",
      "Requirement already satisfied: scikit-learn in ./PoseEst/env/lib/python3.10/site-packages (1.4.2)\n",
      "Requirement already satisfied: numpy in ./PoseEst/env/lib/python3.10/site-packages (1.26.4)\n",
      "Requirement already satisfied: jax in ./PoseEst/env/lib/python3.10/site-packages (from mediapipe) (0.4.28)\n",
      "Requirement already satisfied: flatbuffers>=2.0 in ./PoseEst/env/lib/python3.10/site-packages (from mediapipe) (24.3.25)\n",
      "Requirement already satisfied: protobuf<5,>=4.25.3 in ./PoseEst/env/lib/python3.10/site-packages (from mediapipe) (4.25.3)\n",
      "Requirement already satisfied: absl-py in ./PoseEst/env/lib/python3.10/site-packages (from mediapipe) (2.1.0)\n",
      "Requirement already satisfied: opencv-contrib-python in ./PoseEst/env/lib/python3.10/site-packages (from mediapipe) (4.9.0.80)\n",
      "Requirement already satisfied: sounddevice>=0.4.4 in ./PoseEst/env/lib/python3.10/site-packages (from mediapipe) (0.4.6)\n",
      "Requirement already satisfied: jaxlib in ./PoseEst/env/lib/python3.10/site-packages (from mediapipe) (0.4.28)\n",
      "Requirement already satisfied: matplotlib in ./PoseEst/env/lib/python3.10/site-packages (from mediapipe) (3.8.4)\n",
      "Requirement already satisfied: attrs>=19.1.0 in ./PoseEst/env/lib/python3.10/site-packages (from mediapipe) (23.2.0)\n",
      "Requirement already satisfied: python-dateutil>=2.8.2 in ./PoseEst/env/lib/python3.10/site-packages (from pandas) (2.9.0.post0)\n",
      "Requirement already satisfied: pytz>=2020.1 in ./PoseEst/env/lib/python3.10/site-packages (from pandas) (2024.1)\n",
      "Requirement already satisfied: tzdata>=2022.7 in ./PoseEst/env/lib/python3.10/site-packages (from pandas) (2024.1)\n",
      "Requirement already satisfied: threadpoolctl>=2.0.0 in ./PoseEst/env/lib/python3.10/site-packages (from scikit-learn) (3.5.0)\n",
      "Requirement already satisfied: scipy>=1.6.0 in ./PoseEst/env/lib/python3.10/site-packages (from scikit-learn) (1.13.0)\n",
      "Requirement already satisfied: joblib>=1.2.0 in ./PoseEst/env/lib/python3.10/site-packages (from scikit-learn) (1.4.2)\n",
      "Requirement already satisfied: six>=1.5 in ./PoseEst/env/lib/python3.10/site-packages (from python-dateutil>=2.8.2->pandas) (1.16.0)\n",
      "Requirement already satisfied: CFFI>=1.0 in ./PoseEst/env/lib/python3.10/site-packages (from sounddevice>=0.4.4->mediapipe) (1.16.0)\n",
      "Requirement already satisfied: ml-dtypes>=0.2.0 in ./PoseEst/env/lib/python3.10/site-packages (from jax->mediapipe) (0.4.0)\n",
      "Requirement already satisfied: opt-einsum in ./PoseEst/env/lib/python3.10/site-packages (from jax->mediapipe) (3.3.0)\n",
      "Requirement already satisfied: packaging>=20.0 in ./PoseEst/env/lib/python3.10/site-packages (from matplotlib->mediapipe) (24.0)\n",
      "Requirement already satisfied: contourpy>=1.0.1 in ./PoseEst/env/lib/python3.10/site-packages (from matplotlib->mediapipe) (1.2.1)\n",
      "Requirement already satisfied: fonttools>=4.22.0 in ./PoseEst/env/lib/python3.10/site-packages (from matplotlib->mediapipe) (4.51.0)\n",
      "Requirement already satisfied: pyparsing>=2.3.1 in ./PoseEst/env/lib/python3.10/site-packages (from matplotlib->mediapipe) (3.1.2)\n",
      "Requirement already satisfied: cycler>=0.10 in ./PoseEst/env/lib/python3.10/site-packages (from matplotlib->mediapipe) (0.12.1)\n",
      "Requirement already satisfied: pillow>=8 in ./PoseEst/env/lib/python3.10/site-packages (from matplotlib->mediapipe) (10.3.0)\n",
      "Requirement already satisfied: kiwisolver>=1.3.1 in ./PoseEst/env/lib/python3.10/site-packages (from matplotlib->mediapipe) (1.4.5)\n",
      "Requirement already satisfied: pycparser in ./PoseEst/env/lib/python3.10/site-packages (from CFFI>=1.0->sounddevice>=0.4.4->mediapipe) (2.22)\n",
      "Note: you may need to restart the kernel to use updated packages.\n"
     ]
    }
   ],
   "source": [
    "%pip install mediapipe opencv-python pandas scikit-learn numpy"
   ]
  },
  {
   "cell_type": "code",
   "execution_count": 1,
   "metadata": {},
   "outputs": [],
   "source": [
    "import mediapipe as mp \n",
    "import cv2\n"
   ]
  },
  {
   "cell_type": "code",
   "execution_count": 2,
   "metadata": {},
   "outputs": [],
   "source": [
    "mp_drawing = mp.solutions.drawing_utils\n",
    "mp_holistic = mp.solutions.holistic"
   ]
  },
  {
   "cell_type": "code",
   "execution_count": 12,
   "metadata": {},
   "outputs": [
    {
     "name": "stderr",
     "output_type": "stream",
     "text": [
      "I0000 00:00:1718277063.311084   73206 gl_context_egl.cc:85] Successfully initialized EGL. Major : 1 Minor: 5\n",
      "I0000 00:00:1718277063.312695   74056 gl_context.cc:357] GL version: 3.2 (OpenGL ES 3.2 Mesa 23.2.1-1ubuntu3.1~22.04.2), renderer: Mesa Intel(R) Xe Graphics (TGL GT2)\n",
      "W0000 00:00:1718277063.398076   74048 inference_feedback_manager.cc:114] Feedback manager requires a model with a single signature inference. Disabling support for feedback tensors.\n",
      "W0000 00:00:1718277063.413460   74050 inference_feedback_manager.cc:114] Feedback manager requires a model with a single signature inference. Disabling support for feedback tensors.\n",
      "W0000 00:00:1718277063.414119   74050 inference_feedback_manager.cc:114] Feedback manager requires a model with a single signature inference. Disabling support for feedback tensors.\n",
      "W0000 00:00:1718277063.414247   74047 inference_feedback_manager.cc:114] Feedback manager requires a model with a single signature inference. Disabling support for feedback tensors.\n",
      "W0000 00:00:1718277063.414851   74051 inference_feedback_manager.cc:114] Feedback manager requires a model with a single signature inference. Disabling support for feedback tensors.\n",
      "W0000 00:00:1718277063.420790   74052 inference_feedback_manager.cc:114] Feedback manager requires a model with a single signature inference. Disabling support for feedback tensors.\n",
      "W0000 00:00:1718277063.428392   74046 inference_feedback_manager.cc:114] Feedback manager requires a model with a single signature inference. Disabling support for feedback tensors.\n",
      "W0000 00:00:1718277063.434617   74047 inference_feedback_manager.cc:114] Feedback manager requires a model with a single signature inference. Disabling support for feedback tensors.\n"
     ]
    },
    {
     "ename": "error",
     "evalue": "OpenCV(4.9.0) /io/opencv/modules/imgproc/src/resize.cpp:4152: error: (-215:Assertion failed) !ssize.empty() in function 'resize'\n",
     "output_type": "error",
     "traceback": [
      "\u001b[0;31m---------------------------------------------------------------------------\u001b[0m",
      "\u001b[0;31merror\u001b[0m                                     Traceback (most recent call last)",
      "Cell \u001b[0;32mIn[12], line 20\u001b[0m\n\u001b[1;32m     18\u001b[0m \u001b[38;5;28;01mwhile\u001b[39;00m cap\u001b[38;5;241m.\u001b[39misOpened():\n\u001b[1;32m     19\u001b[0m     ret, frame \u001b[38;5;241m=\u001b[39m cap\u001b[38;5;241m.\u001b[39mread()\n\u001b[0;32m---> 20\u001b[0m     frame \u001b[38;5;241m=\u001b[39m \u001b[43mcv2\u001b[49m\u001b[38;5;241;43m.\u001b[39;49m\u001b[43mresize\u001b[49m\u001b[43m(\u001b[49m\u001b[43mframe\u001b[49m\u001b[43m,\u001b[49m\u001b[43m \u001b[49m\u001b[43m(\u001b[49m\u001b[43mnew_width\u001b[49m\u001b[43m,\u001b[49m\u001b[43m \u001b[49m\u001b[43mnew_height\u001b[49m\u001b[43m)\u001b[49m\u001b[43m)\u001b[49m\n\u001b[1;32m     21\u001b[0m     image \u001b[38;5;241m=\u001b[39m cv2\u001b[38;5;241m.\u001b[39mcvtColor(frame, cv2\u001b[38;5;241m.\u001b[39mCOLOR_BGR2RGB)\n\u001b[1;32m     22\u001b[0m     image\u001b[38;5;241m.\u001b[39mflags\u001b[38;5;241m.\u001b[39mwriteable \u001b[38;5;241m=\u001b[39m \u001b[38;5;28;01mFalse\u001b[39;00m\n",
      "\u001b[0;31merror\u001b[0m: OpenCV(4.9.0) /io/opencv/modules/imgproc/src/resize.cpp:4152: error: (-215:Assertion failed) !ssize.empty() in function 'resize'\n"
     ]
    }
   ],
   "source": [
    "# make detections \n",
    "video = 'illuminati_1.mp4'\n",
    "cap = cv2.VideoCapture(video)\n",
    "global results\n",
    "# Initiate holistic model\n",
    "with mp_holistic.Holistic(min_detection_confidence=0.5, min_tracking_confidence=0.5) as holistic:\n",
    "    scale_percent = 50  # Resize to 50% of the original size\n",
    "\n",
    "    # Get video properties\n",
    "    frame_width = int(cap.get(cv2.CAP_PROP_FRAME_WIDTH))\n",
    "    frame_height = int(cap.get(cv2.CAP_PROP_FRAME_HEIGHT))\n",
    "    fps = int(cap.get(cv2.CAP_PROP_FPS))\n",
    "\n",
    "    # Calculate new dimensions\n",
    "    new_width = int(frame_width * scale_percent / 100)\n",
    "    new_height = int(frame_height * scale_percent / 100)\n",
    "\n",
    "    while cap.isOpened():\n",
    "        ret, frame = cap.read()\n",
    "        frame = cv2.resize(frame, (new_width, new_height))\n",
    "        image = cv2.cvtColor(frame, cv2.COLOR_BGR2RGB)\n",
    "        image.flags.writeable = False\n",
    "\n",
    "        # Make detections\n",
    "        results = holistic.process(image)\n",
    "\n",
    "\n",
    "        image.flags.writeable = True\n",
    "        image = cv2.cvtColor(image, cv2.COLOR_RGB2BGR)\n",
    "\n",
    "        # Draw face landmarks\n",
    "        # mp_drawing.draw_landmarks(image, results.face_landmarks, mp_holistic.FACEMESH_TESSELATION)\n",
    "\n",
    "        # Right hand\n",
    "        # mp_drawing.draw_landmarks(image, results.right_hand_landmarks, mp_holistic.HAND_CONNECTIONS)\n",
    "\n",
    "        # Left Hand\n",
    "        # mp_drawing.draw_landmarks(image, results.left_hand_landmarks, mp_holistic.HAND_CONNECTIONS)\n",
    "\n",
    "        # Pose Detections\n",
    "        mp_drawing.draw_landmarks(image, results.pose_landmarks, mp_holistic.POSE_CONNECTIONS)\n",
    "        \n",
    "        cv2.imshow('Dance', image)\n",
    "\n",
    "        if cv2.waitKey(10) & 0xFF == ord('q'):\n",
    "            break\n",
    "\n",
    "cap.release()\n",
    "cv2.destroyAllWindows()\n",
    "\n"
   ]
  },
  {
   "cell_type": "code",
   "execution_count": 9,
   "metadata": {},
   "outputs": [
    {
     "name": "stdout",
     "output_type": "stream",
     "text": [
      "None\n"
     ]
    }
   ],
   "source": [
    "print(results.pose_landmarks)"
   ]
  },
  {
   "cell_type": "code",
   "execution_count": null,
   "metadata": {},
   "outputs": [],
   "source": []
  }
 ],
 "metadata": {
  "kernelspec": {
   "display_name": "env",
   "language": "python",
   "name": "python3"
  },
  "language_info": {
   "codemirror_mode": {
    "name": "ipython",
    "version": 3
   },
   "file_extension": ".py",
   "mimetype": "text/x-python",
   "name": "python",
   "nbconvert_exporter": "python",
   "pygments_lexer": "ipython3",
   "version": "3.10.12"
  }
 },
 "nbformat": 4,
 "nbformat_minor": 2
}
